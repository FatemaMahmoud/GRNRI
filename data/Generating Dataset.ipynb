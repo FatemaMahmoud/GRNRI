{
 "cells": [
  {
   "cell_type": "markdown",
   "metadata": {},
   "source": [
    "# Preparing Data"
   ]
  },
  {
   "cell_type": "markdown",
   "metadata": {},
   "source": [
    "BEELINE framework is used to benchmark the performance of our algorithm. You can download raw data from https://doi.org/10.5281/zenodo.3378975, which is provided by BEELINE framework, and use the preoprocess code in https://github.com/Murali-group/Beeline/blob/master/generateExpInputs.py to generate datasets.\n"
   ]
  },
  {
   "cell_type": "code",
   "execution_count": 1,
   "metadata": {},
   "outputs": [],
   "source": [
    "import pandas as pd\n",
    "from statistics import mean\n",
    "import numpy as np"
   ]
  },
  {
   "cell_type": "code",
   "execution_count": 2,
   "metadata": {},
   "outputs": [],
   "source": [
    "#please specify the name of expression data file\n",
    "exp_data_fname = \"data.csv\"\n",
    "\n",
    "#please specify the name of network file\n",
    "net_fname = \"network.csv\"\n",
    "\n",
    "suffix = \"rna\""
   ]
  },
  {
   "cell_type": "markdown",
   "metadata": {},
   "source": [
    "## Uploading Expression Data"
   ]
  },
  {
   "cell_type": "code",
   "execution_count": 3,
   "metadata": {},
   "outputs": [],
   "source": [
    "expData = pd.read_csv(exp_data_fname)\n",
    "expData = expData.T\n",
    "expData.columns = expData.iloc[0]\n",
    "expData = expData.iloc[pd.RangeIndex(len(expData)).drop(0)]\n",
    "expData.insert(0, \"cell_id\", expData.index, True)\n",
    "expData = expData.set_index(np.arange(expData.shape[0]))\n",
    "expData = expData.rename_axis(None, axis=1)\n",
    "expData = expData.reindex(sorted(expData.columns), axis=1)\n",
    "expData = expData.sample(frac = 1)\n",
    "expData = expData.set_index(np.arange(expData.shape[0]))\n",
    "expData = expData.drop(columns='cell_id')"
   ]
  },
  {
   "cell_type": "markdown",
   "metadata": {},
   "source": [
    "## saving formatted expression data"
   ]
  },
  {
   "cell_type": "code",
   "execution_count": 4,
   "metadata": {},
   "outputs": [
    {
     "name": "stderr",
     "output_type": "stream",
     "text": [
      "C:\\Users\\CSE-Admin\\AppData\\Local\\Temp\\ipykernel_2604\\1059804165.py:2: FutureWarning: The series.append method is deprecated and will be removed from pandas in a future version. Use pandas.concat instead.\n",
      "  genes = (network['Gene1'].append(network['Gene2'])).unique()\n"
     ]
    }
   ],
   "source": [
    "network = pd.read_csv(net_fname)\n",
    "genes = (network['Gene1'].append(network['Gene2'])).unique()\n",
    "expData = expData.loc[:, expData.columns.intersection(genes)]\n",
    "tfs = (network['Gene1']).unique()\n",
    "non_tfs = []\n",
    "for gene in genes:\n",
    "    if (gene not in tfs):\n",
    "        non_tfs.append(gene)\n",
    "tfs = tfs.tolist()\n",
    "expData = expData.reindex((tfs+non_tfs), axis=1)\n",
    "#[number of cells, time, features, genes]\n",
    "shape = [expData.shape[0], 1, 1, expData.shape[1]]\n",
    "formatted_data = expData.to_numpy(dtype=np.float32)\n",
    "formatted_data = np.reshape(formatted_data, shape)\n",
    "np.save('train_' + suffix + '.npy', formatted_data)"
   ]
  },
  {
   "cell_type": "markdown",
   "metadata": {},
   "source": [
    "## Generating and saving true edges file"
   ]
  },
  {
   "cell_type": "code",
   "execution_count": 5,
   "metadata": {},
   "outputs": [],
   "source": [
    "sh = expData.columns.shape[0]\n",
    "true_edges = np.zeros((sh, sh))\n",
    "cols = expData.columns.tolist()\n",
    "for i in range(network.shape[0]):\n",
    "    idx1 = cols.index(network.iloc[i]['Gene1'])\n",
    "    idx2 = cols.index(network.iloc[i]['Gene2'])\n",
    "    true_edges[idx1, idx2] = 1\n",
    "np.save('true_edges.npy', true_edges)"
   ]
  },
  {
   "cell_type": "markdown",
   "metadata": {},
   "source": [
    "### (Optional) used only for computing accuracy for each batch as an indicator for the training process. If you want to ignore it, set compute_acc argument in training file to False. "
   ]
  },
  {
   "cell_type": "code",
   "execution_count": 6,
   "metadata": {},
   "outputs": [],
   "source": [
    "all_edges = np.empty([expData.shape[0], len(tfs), genes.shape[0]])\n",
    "for i in range(expData.shape[0]):\n",
    "    edges = pd.DataFrame(0, tfs, np.concatenate((tfs, non_tfs)), np.int8)\n",
    "    for j in range(network.shape[0]):\n",
    "        gene1 = network.iloc[j][\"Gene1\"]\n",
    "        gene2 = network.iloc[j][\"Gene2\"]\n",
    "        if((expData.iloc[i][gene1] > 0) & (expData.iloc[i][gene2] > 0)):\n",
    "            edges[gene1][gene2] = 1\n",
    "    all_edges[i] = edges.to_numpy()\n",
    "np.save('edges_train_' + suffix + '.npy', all_edges)    "
   ]
  }
 ],
 "metadata": {
  "kernelspec": {
   "display_name": "Python 3 (ipykernel)",
   "language": "python",
   "name": "python3"
  },
  "language_info": {
   "codemirror_mode": {
    "name": "ipython",
    "version": 3
   },
   "file_extension": ".py",
   "mimetype": "text/x-python",
   "name": "python",
   "nbconvert_exporter": "python",
   "pygments_lexer": "ipython3",
   "version": "3.9.12"
  }
 },
 "nbformat": 4,
 "nbformat_minor": 4
}
